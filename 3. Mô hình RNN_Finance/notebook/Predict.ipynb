{
 "cells": [
  {
   "cell_type": "markdown",
   "metadata": {},
   "source": [
    "# Import thư viện cần thiết"
   ]
  },
  {
   "cell_type": "code",
   "execution_count": 1,
   "metadata": {},
   "outputs": [],
   "source": [
    "import pandas as pd #đọc dữ liệu\n",
    "import numpy as np #xử lý dữ liệu\n",
    "import matplotlib.pyplot as plt #vẽ biểu đồ\n",
    "from sklearn.preprocessing import MinMaxScaler #chuẩn hóa dữ liệu\n",
    "from sklearn.model_selection import train_test_split\n",
    "from keras.callbacks import ModelCheckpoint #lưu lại huấn luyện tốt nhất\n",
    "import tensorflow as tf # Thư viên tensorflow train AI\n",
    "from tensorflow.keras.models import load_model #tải mô hình\n",
    "import os\n",
    "from os import listdir\n",
    "from os.path import isfile, join\n",
    "import pickle\n",
    "#các lớp để xây dựng mô hình\n",
    "from keras.models import Sequential #đầu vào\n",
    "from keras.layers import LSTM #học phụ thuộc\n",
    "from keras.layers import Dropout #tránh học tủ\n",
    "from keras.layers import Dense #đầu ra\n",
    "from tensorflow.keras.callbacks import EarlyStopping, ReduceLROnPlateau #Dừng huấn luyện mô hình sớm hơn nếu mô hình không cải thiện gì thêm\n",
    "                                                                        #Giảm giá trị learning rate khi hiệu suất mô hình không cải thiện.\n",
    "from tensorflow.keras.optimizers import Adam\n",
    "#kiểm tra độ chính xác của mô hình\n",
    "from sklearn.metrics import r2_score #đo mức độ phù hợp\n",
    "from sklearn.metrics import mean_absolute_error #đo sai số tuyệt đối trung bình\n",
    "from sklearn.metrics import mean_absolute_percentage_error #đo % sai số tuyệt đối trung bình\n",
    "from sklearn.metrics import mean_squared_error\n",
    "from math import sqrt\n",
    "# Xử lý dữ liệu thời gian\n",
    "from datetime import datetime, timedelta"
   ]
  },
  {
   "cell_type": "markdown",
   "metadata": {},
   "source": [
    "# 1. Định nghĩa các hàm hỗ trợ:"
   ]
  },
  {
   "cell_type": "code",
   "execution_count": 2,
   "metadata": {},
   "outputs": [],
   "source": [
    "# Hàm kiểm tra dữ liệu NaN hoặc Inf\n",
    "def check_nan_inf(X):\n",
    "    return np.any(np.isnan(X)) or np.any(np.isinf(X))\n",
    "# Hàm hiển thị vị trí dữ liệu NaN hoặc Inf\n",
    "def find_nan_inf_positions(X):\n",
    "    nan_positions = np.argwhere(np.isnan(X))\n",
    "    inf_positions = np.argwhere(np.isinf(X))\n",
    "    return nan_positions, inf_positions\n",
    "# Hàm thống kê số lượng NaN hoặc Inf\n",
    "def count_nan_inf(X):\n",
    "    nan_count = np.sum(np.isnan(X))\n",
    "    inf_count = np.sum(np.isinf(X))\n",
    "    return nan_count, inf_count\n",
    "# Hàm loại bỏ các hàng chứa NaN/Inf\n",
    "def remove_nan_inf(df):\n",
    "    original_length = len(df)\n",
    "    df_clean = df.dropna().replace([np.inf, -np.inf], np.nan).dropna()\n",
    "    cleaned_length = len(df_clean)\n",
    "    if original_length != cleaned_length:\n",
    "        print(f\"Đã loại bỏ {original_length - cleaned_length} hàng chứa NaN hoặc Inf.\")\n",
    "    return df_clean\n",
    "# Hàm loại bỏ các hàng chứa NaN/Inf trong chuỗi thời gian\n",
    "def remove_nan_inf_from_sequences(sequences, labels):\n",
    "    mask = ~np.isnan(sequences).any(axis=(1, 2)) & ~np.isinf(sequences).any(axis=(1, 2)) & \\\n",
    "           ~np.isnan(labels).any(axis=1) & ~np.isinf(labels).any(axis=1)\n",
    "    return sequences[mask], labels[mask]\n"
   ]
  },
  {
   "cell_type": "code",
   "execution_count": 3,
   "metadata": {},
   "outputs": [],
   "source": [
    "# Hàm tải và chuẩn hóa dữ liệu\n",
    "def load_and_preprocess_data(path_to_csvs):\n",
    "    stock_data = {}\n",
    "    normalization_params = {}\n",
    "    files = [f for f in os.listdir(path_to_csvs) if os.path.isfile(os.path.join(path_to_csvs, f))]\n",
    "    for file in files:\n",
    "        file_path = os.path.join(path_to_csvs, file)\n",
    "        data = pd.read_csv(file_path, parse_dates=['Date'])\n",
    "        data.sort_values('Date', inplace=True)\n",
    "        normalization_params[file[:-4]] = {}\n",
    "        scaler = MinMaxScaler()\n",
    "        data[['Open', 'High', 'Low', 'Close', 'Volume']] = scaler.fit_transform(data[['Open', 'High', 'Low', 'Close', 'Volume']])\n",
    "        normalization_params[file[:-4]] = {\n",
    "            'Open': {'min': scaler.data_min_[0], 'max': scaler.data_max_[0]},\n",
    "            'High': {'min': scaler.data_min_[1], 'max': scaler.data_max_[1]},\n",
    "            'Low': {'min': scaler.data_min_[2], 'max': scaler.data_max_[2]},\n",
    "            'Close': {'min': scaler.data_min_[3], 'max': scaler.data_max_[3]},\n",
    "            'Volume': {'min': scaler.data_min_[4], 'max': scaler.data_max_[4]}\n",
    "        }\n",
    "        stock_data[file[:-4]] = data\n",
    "    return stock_data, normalization_params"
   ]
  },
  {
   "cell_type": "code",
   "execution_count": 4,
   "metadata": {},
   "outputs": [],
   "source": [
    "# Hàm tạo chuỗi thời gian\n",
    "def create_sequences(data, sequence_length=30):\n",
    "    sequences = []\n",
    "    labels = []\n",
    "    for key in data.keys():\n",
    "        values = data[key][['Open', 'High', 'Low', 'Close', 'Volume']].values\n",
    "        for i in range(len(values) - sequence_length):\n",
    "            sequences.append(values[i:i+sequence_length])\n",
    "            labels.append(values[i+sequence_length])\n",
    "    return np.array(sequences), np.array(labels)"
   ]
  },
  {
   "cell_type": "code",
   "execution_count": 5,
   "metadata": {},
   "outputs": [],
   "source": [
    "# Định nghĩa mô hình LSTM với Dropout\n",
    "def build_model(input_length, num_features):\n",
    "    model = Sequential([\n",
    "        LSTM(50, return_sequences=True, input_shape=(input_length, num_features)),\n",
    "        Dropout(0.2),\n",
    "        LSTM(50, return_sequences=False),\n",
    "        Dropout(0.2),\n",
    "        Dense(num_features, activation='linear')\n",
    "    ])\n",
    "    # Sử dụng Adam Optimizer\n",
    "    optimizer = Adam(learning_rate=0.0001, clipvalue=1.0)\n",
    "    model.compile(optimizer=optimizer, loss='mean_squared_error')\n",
    "    return model"
   ]
  },
  {
   "cell_type": "markdown",
   "metadata": {},
   "source": [
    "# 2. Nạp dữ liệu và Thiết lập các tham số của mô hình"
   ]
  },
  {
   "cell_type": "code",
   "execution_count": 7,
   "metadata": {},
   "outputs": [],
   "source": [
    "# Đặt độ dài của mỗi chuỗi\n",
    "sequence_length = 30\n",
    "# Đường dẫn đến thư mục chứa các tệp CSV\n",
    "path_to_csvs = 'E:\\\\Nhom1_DoAnFocasting\\\\S&P500_CSV_Dataset'"
   ]
  },
  {
   "cell_type": "code",
   "execution_count": 8,
   "metadata": {},
   "outputs": [],
   "source": [
    "# Tải dữ liệu và tham số chuẩn hóa\n",
    "stock_data, normalization_params = load_and_preprocess_data(path_to_csvs)"
   ]
  },
  {
   "cell_type": "code",
   "execution_count": 9,
   "metadata": {},
   "outputs": [
    {
     "name": "stdout",
     "output_type": "stream",
     "text": [
      "Đã tạo 4082373 chuỗi.\n"
     ]
    }
   ],
   "source": [
    "# Tạo chuỗi và nhãn\n",
    "sequences, labels = create_sequences(stock_data, sequence_length)\n",
    "print(f\"Đã tạo {len(sequences)} chuỗi.\")"
   ]
  },
  {
   "cell_type": "code",
   "execution_count": 10,
   "metadata": {},
   "outputs": [
    {
     "name": "stdout",
     "output_type": "stream",
     "text": [
      "Số lượng NaN trong sequences: 150\n",
      "Số lượng Inf trong sequences: 0\n",
      "Số lượng NaN trong labels: 5\n",
      "Số lượng Inf trong labels: 0\n"
     ]
    }
   ],
   "source": [
    "# Kiểm tra dữ liệu NaN hoặc Inf\n",
    "if check_nan_inf(sequences) or check_nan_inf(labels):\n",
    "    nan_positions_seq, inf_positions_seq = find_nan_inf_positions(sequences)\n",
    "    nan_positions_lbl, inf_positions_lbl = find_nan_inf_positions(labels)\n",
    "    nan_count_seq, inf_count_seq = count_nan_inf(sequences)\n",
    "    nan_count_lbl, inf_count_lbl = count_nan_inf(labels)\n",
    "    print(f\"Số lượng NaN trong sequences: {nan_count_seq}\")\n",
    "    print(f\"Số lượng Inf trong sequences: {inf_count_seq}\")\n",
    "    print(f\"Số lượng NaN trong labels: {nan_count_lbl}\")\n",
    "    print(f\"Số lượng Inf trong labels: {inf_count_lbl}\")"
   ]
  },
  {
   "cell_type": "code",
   "execution_count": 11,
   "metadata": {},
   "outputs": [],
   "source": [
    "# Kiểm tra và loại bỏ dữ liệu NaN hoặc Inf trong sequences và labels\n",
    "sequences, labels = remove_nan_inf_from_sequences(sequences, labels)"
   ]
  },
  {
   "cell_type": "code",
   "execution_count": 12,
   "metadata": {},
   "outputs": [],
   "source": [
    "# Chia dữ liệu thành tập train/test\n",
    "X_train, X_test, y_train, y_test = train_test_split(sequences, labels, test_size=0.2, random_state=42)"
   ]
  },
  {
   "cell_type": "code",
   "execution_count": 13,
   "metadata": {},
   "outputs": [],
   "source": [
    "# Tạo tf.data dataset\n",
    "batch_size = 64\n",
    "train_dataset = tf.data.Dataset.from_tensor_slices((X_train, y_train)).shuffle(1000).batch(batch_size).prefetch(tf.data.experimental.AUTOTUNE)\n",
    "val_dataset = tf.data.Dataset.from_tensor_slices((X_test, y_test)).batch(batch_size).prefetch(tf.data.experimental.AUTOTUNE)"
   ]
  },
  {
   "cell_type": "code",
   "execution_count": 13,
   "metadata": {},
   "outputs": [
    {
     "name": "stderr",
     "output_type": "stream",
     "text": [
      "e:\\test2\\venv\\Lib\\site-packages\\keras\\src\\layers\\rnn\\rnn.py:204: UserWarning: Do not pass an `input_shape`/`input_dim` argument to a layer. When using Sequential models, prefer using an `Input(shape)` object as the first layer in the model instead.\n",
      "  super().__init__(**kwargs)\n"
     ]
    }
   ],
   "source": [
    "# Xây dựng mô hình\n",
    "model = build_model(X_train.shape[1], X_train.shape[2])"
   ]
  },
  {
   "cell_type": "code",
   "execution_count": 14,
   "metadata": {},
   "outputs": [],
   "source": [
    "# Sử dụng EarlyStopping và ReduceLROnPlateau\n",
    "early_stopping = EarlyStopping(monitor='val_loss', patience=5, restore_best_weights=True)\n",
    "reduce_lr = ReduceLROnPlateau(monitor='val_loss', factor=0.5, patience=3, min_lr=0.00001)"
   ]
  },
  {
   "cell_type": "code",
   "execution_count": 16,
   "metadata": {},
   "outputs": [
    {
     "name": "stdout",
     "output_type": "stream",
     "text": [
      "Epoch 1/50\n",
      "\u001b[1m51030/51030\u001b[0m \u001b[32m━━━━━━━━━━━━━━━━━━━━\u001b[0m\u001b[37m\u001b[0m \u001b[1m978s\u001b[0m 19ms/step - loss: 0.0016 - val_loss: 2.3430e-04 - learning_rate: 1.0000e-04\n",
      "Epoch 2/50\n",
      "\u001b[1m51030/51030\u001b[0m \u001b[32m━━━━━━━━━━━━━━━━━━━━\u001b[0m\u001b[37m\u001b[0m \u001b[1m933s\u001b[0m 18ms/step - loss: 5.3636e-04 - val_loss: 2.1624e-04 - learning_rate: 1.0000e-04\n",
      "Epoch 3/50\n",
      "\u001b[1m51030/51030\u001b[0m \u001b[32m━━━━━━━━━━━━━━━━━━━━\u001b[0m\u001b[37m\u001b[0m \u001b[1m974s\u001b[0m 19ms/step - loss: 5.1923e-04 - val_loss: 2.1392e-04 - learning_rate: 1.0000e-04\n",
      "Epoch 4/50\n",
      "\u001b[1m51030/51030\u001b[0m \u001b[32m━━━━━━━━━━━━━━━━━━━━\u001b[0m\u001b[37m\u001b[0m \u001b[1m968s\u001b[0m 19ms/step - loss: 5.1281e-04 - val_loss: 2.1403e-04 - learning_rate: 1.0000e-04\n",
      "Epoch 5/50\n",
      "\u001b[1m51030/51030\u001b[0m \u001b[32m━━━━━━━━━━━━━━━━━━━━\u001b[0m\u001b[37m\u001b[0m \u001b[1m964s\u001b[0m 19ms/step - loss: 5.0098e-04 - val_loss: 2.0875e-04 - learning_rate: 5.0000e-05\n",
      "Epoch 6/50\n",
      "\u001b[1m51030/51030\u001b[0m \u001b[32m━━━━━━━━━━━━━━━━━━━━\u001b[0m\u001b[37m\u001b[0m \u001b[1m1018s\u001b[0m 20ms/step - loss: 4.9975e-04 - val_loss: 2.1155e-04 - learning_rate: 5.0000e-05\n",
      "Epoch 7/50\n",
      "\u001b[1m51030/51030\u001b[0m \u001b[32m━━━━━━━━━━━━━━━━━━━━\u001b[0m\u001b[37m\u001b[0m \u001b[1m1075s\u001b[0m 21ms/step - loss: 4.9824e-04 - val_loss: 2.1023e-04 - learning_rate: 5.0000e-05\n",
      "Epoch 8/50\n",
      "\u001b[1m51030/51030\u001b[0m \u001b[32m━━━━━━━━━━━━━━━━━━━━\u001b[0m\u001b[37m\u001b[0m \u001b[1m1090s\u001b[0m 21ms/step - loss: 4.9383e-04 - val_loss: 2.0891e-04 - learning_rate: 2.5000e-05\n",
      "Epoch 9/50\n",
      "\u001b[1m51030/51030\u001b[0m \u001b[32m━━━━━━━━━━━━━━━━━━━━\u001b[0m\u001b[37m\u001b[0m \u001b[1m1011s\u001b[0m 20ms/step - loss: 4.9352e-04 - val_loss: 2.1094e-04 - learning_rate: 2.5000e-05\n",
      "Epoch 10/50\n",
      "\u001b[1m51030/51030\u001b[0m \u001b[32m━━━━━━━━━━━━━━━━━━━━\u001b[0m\u001b[37m\u001b[0m \u001b[1m1012s\u001b[0m 20ms/step - loss: 4.9325e-04 - val_loss: 2.0851e-04 - learning_rate: 2.5000e-05\n",
      "Epoch 11/50\n",
      "\u001b[1m51030/51030\u001b[0m \u001b[32m━━━━━━━━━━━━━━━━━━━━\u001b[0m\u001b[37m\u001b[0m \u001b[1m1039s\u001b[0m 20ms/step - loss: 4.9152e-04 - val_loss: 2.0989e-04 - learning_rate: 1.2500e-05\n",
      "Epoch 12/50\n",
      "\u001b[1m51030/51030\u001b[0m \u001b[32m━━━━━━━━━━━━━━━━━━━━\u001b[0m\u001b[37m\u001b[0m \u001b[1m1036s\u001b[0m 20ms/step - loss: 4.9095e-04 - val_loss: 2.0685e-04 - learning_rate: 1.2500e-05\n",
      "Epoch 13/50\n",
      "\u001b[1m51030/51030\u001b[0m \u001b[32m━━━━━━━━━━━━━━━━━━━━\u001b[0m\u001b[37m\u001b[0m \u001b[1m1055s\u001b[0m 21ms/step - loss: 4.8971e-04 - val_loss: 2.0703e-04 - learning_rate: 1.2500e-05\n",
      "Epoch 14/50\n",
      "\u001b[1m51030/51030\u001b[0m \u001b[32m━━━━━━━━━━━━━━━━━━━━\u001b[0m\u001b[37m\u001b[0m \u001b[1m1029s\u001b[0m 20ms/step - loss: 4.9001e-04 - val_loss: 2.0767e-04 - learning_rate: 1.0000e-05\n",
      "Epoch 15/50\n",
      "\u001b[1m51030/51030\u001b[0m \u001b[32m━━━━━━━━━━━━━━━━━━━━\u001b[0m\u001b[37m\u001b[0m \u001b[1m1054s\u001b[0m 21ms/step - loss: 4.9058e-04 - val_loss: 2.1370e-04 - learning_rate: 1.0000e-05\n",
      "Epoch 16/50\n",
      "\u001b[1m51030/51030\u001b[0m \u001b[32m━━━━━━━━━━━━━━━━━━━━\u001b[0m\u001b[37m\u001b[0m \u001b[1m1083s\u001b[0m 21ms/step - loss: 4.8988e-04 - val_loss: 2.0587e-04 - learning_rate: 1.0000e-05\n",
      "Epoch 17/50\n",
      "\u001b[1m51030/51030\u001b[0m \u001b[32m━━━━━━━━━━━━━━━━━━━━\u001b[0m\u001b[37m\u001b[0m \u001b[1m1065s\u001b[0m 21ms/step - loss: 4.9010e-04 - val_loss: 2.0734e-04 - learning_rate: 1.0000e-05\n",
      "Epoch 18/50\n",
      "\u001b[1m51030/51030\u001b[0m \u001b[32m━━━━━━━━━━━━━━━━━━━━\u001b[0m\u001b[37m\u001b[0m \u001b[1m1119s\u001b[0m 22ms/step - loss: 4.8911e-04 - val_loss: 2.1147e-04 - learning_rate: 1.0000e-05\n",
      "Epoch 19/50\n",
      "\u001b[1m51030/51030\u001b[0m \u001b[32m━━━━━━━━━━━━━━━━━━━━\u001b[0m\u001b[37m\u001b[0m \u001b[1m1050s\u001b[0m 21ms/step - loss: 4.8936e-04 - val_loss: 2.0856e-04 - learning_rate: 1.0000e-05\n",
      "Epoch 20/50\n",
      "\u001b[1m51030/51030\u001b[0m \u001b[32m━━━━━━━━━━━━━━━━━━━━\u001b[0m\u001b[37m\u001b[0m \u001b[1m1072s\u001b[0m 21ms/step - loss: 4.8901e-04 - val_loss: 2.0552e-04 - learning_rate: 1.0000e-05\n",
      "Epoch 21/50\n",
      "\u001b[1m51030/51030\u001b[0m \u001b[32m━━━━━━━━━━━━━━━━━━━━\u001b[0m\u001b[37m\u001b[0m \u001b[1m1153s\u001b[0m 23ms/step - loss: 4.8858e-04 - val_loss: 2.0638e-04 - learning_rate: 1.0000e-05\n",
      "Epoch 22/50\n",
      "\u001b[1m51030/51030\u001b[0m \u001b[32m━━━━━━━━━━━━━━━━━━━━\u001b[0m\u001b[37m\u001b[0m \u001b[1m1087s\u001b[0m 21ms/step - loss: 4.9018e-04 - val_loss: 2.0621e-04 - learning_rate: 1.0000e-05\n",
      "Epoch 23/50\n",
      "\u001b[1m51030/51030\u001b[0m \u001b[32m━━━━━━━━━━━━━━━━━━━━\u001b[0m\u001b[37m\u001b[0m \u001b[1m1012s\u001b[0m 20ms/step - loss: 4.9040e-04 - val_loss: 2.0716e-04 - learning_rate: 1.0000e-05\n",
      "Epoch 24/50\n",
      "\u001b[1m51030/51030\u001b[0m \u001b[32m━━━━━━━━━━━━━━━━━━━━\u001b[0m\u001b[37m\u001b[0m \u001b[1m998s\u001b[0m 20ms/step - loss: 4.8977e-04 - val_loss: 2.0615e-04 - learning_rate: 1.0000e-05\n",
      "Epoch 25/50\n",
      "\u001b[1m51030/51030\u001b[0m \u001b[32m━━━━━━━━━━━━━━━━━━━━\u001b[0m\u001b[37m\u001b[0m \u001b[1m1025s\u001b[0m 20ms/step - loss: 4.8970e-04 - val_loss: 2.0585e-04 - learning_rate: 1.0000e-05\n"
     ]
    }
   ],
   "source": [
    "# Huấn luyện mô hình với các callback\n",
    "history = model.fit(\n",
    "    train_dataset,\n",
    "    validation_data=val_dataset,\n",
    "    epochs=50,\n",
    "    callbacks=[early_stopping, reduce_lr],\n",
    "    verbose=1\n",
    ")"
   ]
  },
  {
   "cell_type": "code",
   "execution_count": 28,
   "metadata": {},
   "outputs": [
    {
     "name": "stderr",
     "output_type": "stream",
     "text": [
      "WARNING:absl:You are saving your model as an HDF5 file via `model.save()` or `keras.saving.save_model(model)`. This file format is considered legacy. We recommend using instead the native Keras format, e.g. `model.save('my_model.keras')` or `keras.saving.save_model(model, 'my_model.keras')`. \n"
     ]
    }
   ],
   "source": [
    "#lưu mô hình\n",
    "model.save('stock_rnn_model.h5') "
   ]
  },
  {
   "cell_type": "code",
   "execution_count": null,
   "metadata": {},
   "outputs": [],
   "source": [
    "# Lưu lịch sử huấn luyện mô hình\n",
    "with open('training_history.pkl', 'wb') as file:\n",
    "    # pickle.dump(history.history, file)"
   ]
  },
  {
   "cell_type": "code",
   "execution_count": 15,
   "metadata": {},
   "outputs": [
    {
     "name": "stderr",
     "output_type": "stream",
     "text": [
      "WARNING:absl:Compiled the loaded model, but the compiled metrics have yet to be built. `model.compile_metrics` will be empty until you train or evaluate the model.\n"
     ]
    }
   ],
   "source": [
    "# Tải mô hình đã lưu để tái sử dụng\n",
    "model = load_model('stock_rnn_model.h5')"
   ]
  },
  {
   "cell_type": "code",
   "execution_count": 16,
   "metadata": {},
   "outputs": [],
   "source": [
    "#Tải lịch sử huấn luyện\n",
    "with open('training_history.pkl', 'rb') as file:\n",
    "    history = pickle.load(file)"
   ]
  },
  {
   "cell_type": "markdown",
   "metadata": {},
   "source": [
    "# Đánh giá mô hình dự đoán dựa trên dữ liệu lịch sử của các công ty thuộc SP500"
   ]
  },
  {
   "cell_type": "code",
   "execution_count": 17,
   "metadata": {},
   "outputs": [
    {
     "name": "stdout",
     "output_type": "stream",
     "text": [
      "\u001b[1m25515/25515\u001b[0m \u001b[32m━━━━━━━━━━━━━━━━━━━━\u001b[0m\u001b[37m\u001b[0m \u001b[1m160s\u001b[0m 6ms/step\n",
      "\u001b[1m25515/25515\u001b[0m \u001b[32m━━━━━━━━━━━━━━━━━━━━\u001b[0m\u001b[37m\u001b[0m \u001b[1m121s\u001b[0m 5ms/step - loss: 2.0308e-04\n",
      "Mean Squared Error: 0.00020605602813705313\n",
      "Root Mean Squared Error: 0.014354651794350607\n",
      "Mean Absolute Error: 0.005133314183649545\n",
      "R-squared: 0.9354779415448448\n",
      "Test Loss: 0.00020605562895070761\n"
     ]
    }
   ],
   "source": [
    "# Tạo mô hình dự đoán và Đánh giá mô hình dự đoán\n",
    "predictions = model.predict(X_test)\n",
    "mse = mean_squared_error(y_test, predictions) #Trung bình phương sai\n",
    "rmse = sqrt(mse) # Độ lệch chuẩn\n",
    "mae = mean_absolute_error(y_test, predictions) #Giá trị trung bình tuyệt đối\n",
    "r2 = r2_score(y_test, predictions) # Đo lường tỷ lệ phần trăm sự biến thiên trong dữ liệu\n",
    "test_loss = model.evaluate(X_test, y_test) # Giá trị hàm mất mát \n",
    "\n",
    "print(f'Mean Squared Error: {mse}')\n",
    "print(f'Root Mean Squared Error: {rmse}')\n",
    "print(f'Mean Absolute Error: {mae}')\n",
    "print(\"R-squared:\", r2)\n",
    "print(\"Test Loss:\", test_loss)"
   ]
  },
  {
   "cell_type": "code",
   "execution_count": 18,
   "metadata": {},
   "outputs": [
    {
     "data": {
      "image/png": "[encoded data removed]",
      "text/plain": [
       "<Figure size 640x480 with 1 Axes>"
      ]
     },
     "metadata": {},
     "output_type": "display_data"
    }
   ],
   "source": [
    "plt.plot(history['loss'], label='Training Loss')\n",
    "plt.plot(history['val_loss'], label='Validation Loss')\n",
    "plt.xlabel('Epochs')\n",
    "plt.ylabel('Accuracy / Loss')\n",
    "plt.legend()\n",
    "plt.show()"
   ]
  },
  {
   "cell_type": "markdown",
   "metadata": {},
   "source": [
    "# Dự đoán giá cổ phiếu dựa trên dữ liệu lịch sử của các công ty thuộc SP500"
   ]
  },
  {
   "cell_type": "code",
   "execution_count": 19,
   "metadata": {},
   "outputs": [],
   "source": [
    "# Hàm để dự đoán giá cổ phiếu\n",
    "def predict_stock_for_date(model, data, ticker, predict_date, normalization_params, sequence_length=30):\n",
    "    stock_data = data[ticker]\n",
    "    predict_date = pd.to_datetime(predict_date)\n",
    "    if predict_date not in stock_data['Date'].values:\n",
    "        print(f\"Ngày {predict_date.date()} không có trong dữ liệu của {ticker}.\")\n",
    "        return None\n",
    "    # Lấy vị trí của ngày cần dự đoán\n",
    "    target_idx = stock_data.index[stock_data['Date'] == predict_date][0]\n",
    "    # Kiểm tra xem có đủ dữ liệu lịch sử để dự đoán ngày yêu cầu không\n",
    "    if target_idx < sequence_length:\n",
    "        print(f\"Không đủ dữ liệu để dự đoán cho ngày {predict_date.date()} của {ticker}.\")\n",
    "        return None\n",
    "    # Lấy chuỗi dữ liệu lịch sử trước ngày cần dự đoán\n",
    "    sequence = stock_data[['Open', 'High', 'Low', 'Close', 'Volume']].iloc[target_idx-sequence_length:target_idx].values\n",
    "    sequence = sequence.reshape((1, sequence_length, 5))\n",
    "    # Dự đoán giá chuẩn hóa\n",
    "    normalized_predictions = model.predict(sequence)[0]\n",
    "    # Chuyển đổi giá trị chuẩn hóa về giá trị thực tế\n",
    "    predicted_prices = {}\n",
    "    features = ['Open', 'High', 'Low', 'Close', 'Volume']\n",
    "    for i, feature in enumerate(features):\n",
    "        min_val = normalization_params[ticker][feature]['min']\n",
    "        max_val = normalization_params[ticker][feature]['max']\n",
    "        predicted_prices[feature] = normalized_predictions[i] * (max_val - min_val) + min_val\n",
    "\n",
    "    return predicted_prices"
   ]
  },
  {
   "cell_type": "code",
   "execution_count": 20,
   "metadata": {},
   "outputs": [],
   "source": [
    "# Hàm để lấy mã cổ phiếu và ngày muốn dự đoán từ người dùng\n",
    "def input_and_predict(model, stock_data, normalization_params, sequence_length=30):\n",
    "    ticker = input(\"Nhập mã cổ phiếu: \").upper()\n",
    "    if ticker not in stock_data:\n",
    "        print(f\"Mã cổ phiếu {ticker} không tồn tại trong dữ liệu.\")\n",
    "        return\n",
    "    predict_date = input(\"Nhập ngày dự đoán (YYYY-MM-DD): \")\n",
    "    predicted_prices = predict_stock_for_date(model, stock_data, ticker, predict_date, normalization_params, sequence_length)\n",
    "    if predicted_prices:\n",
    "        print(f\"Dự đoán giá trị cho cổ phiếu {ticker} vào ngày {predict_date}:\")\n",
    "        print(f\"  + Giá trị Open dự đoán của cổ phiếu là: {predicted_prices['Open']}\")\n",
    "        print(f\"  + Giá trị High dự đoán của cổ phiếu là: {predicted_prices['High']}\")\n",
    "        print(f\"  + Giá trị Low dự đoán của cổ phiếu là: {predicted_prices['Low']}\")\n",
    "        print(f\"  + Giá trị Close dự đoán của cổ phiếu là: {predicted_prices['Close']}\")\n",
    "        print(f\"  + Giá trị Volume dự đoán của cổ phiếu là: {predicted_prices['Volume']}\")\n"
   ]
  },
  {
   "cell_type": "code",
   "execution_count": 21,
   "metadata": {},
   "outputs": [
    {
     "name": "stdout",
     "output_type": "stream",
     "text": [
      "\u001b[1m1/1\u001b[0m \u001b[32m━━━━━━━━━━━━━━━━━━━━\u001b[0m\u001b[37m\u001b[0m \u001b[1m0s\u001b[0m 65ms/step\n",
      "Dự đoán giá trị cho cổ phiếu AAPL vào ngày 2022-03-02:\n",
      "  + Giá trị Open dự đoán của cổ phiếu là: 163.69606457530242\n",
      "  + Giá trị High dự đoán của cổ phiếu là: 164.11210972676844\n",
      "  + Giá trị Low dự đoán của cổ phiếu là: 160.9345599599842\n",
      "  + Giá trị Close dự đoán của cổ phiếu là: 163.32215513386032\n",
      "  + Giá trị Volume dự đoán của cổ phiếu là: 98367711.84918284\n"
     ]
    }
   ],
   "source": [
    "# Tải mô hình đã lưu và thực hiện nhập mã cổ phiếu muốn dự đoán\n",
    "input_and_predict(model, stock_data, normalization_params, sequence_length)"
   ]
  },
  {
   "cell_type": "markdown",
   "metadata": {},
   "source": [
    "# Hàm dự đoán giá cổ phiếu tương lai tiếp theo dựa vào dữ liệu 30 ngày dữ liệu cuối trong dữ liệu lịch sử của các công ty thuộc SP500"
   ]
  },
  {
   "cell_type": "markdown",
   "metadata": {},
   "source": [
    "# Bước 1: Xây hàm dự đoán giá cổ phiếu tương lai "
   ]
  },
  {
   "cell_type": "code",
   "execution_count": 21,
   "metadata": {},
   "outputs": [],
   "source": [
    "def predict_future_prices(model, last_30_days, num_days_to_predict, normalization_params, ticker):\n",
    "    current_sequence = last_30_days[np.newaxis, :, :]\n",
    "    predicted_prices = []\n",
    "    for _ in range(num_days_to_predict):\n",
    "        predicted_price = model.predict(current_sequence)[0]\n",
    "        actual_predicted_price = {}\n",
    "        for i, feature in enumerate(['Open', 'High', 'Low', 'Close', 'Volume']):\n",
    "            min_val = normalization_params[ticker][feature]['min']\n",
    "            max_val = normalization_params[ticker][feature]['max']\n",
    "            actual_predicted_price[feature] = predicted_price[i] * (max_val - min_val) + min_val\n",
    "        predicted_prices.append(actual_predicted_price)\n",
    "        predicted_price_reshaped = predicted_price.reshape(1, 1, len(predicted_price))\n",
    "        current_sequence = np.concatenate((current_sequence[:, 1:, :], predicted_price_reshaped), axis=1)\n",
    "    \n",
    "    return predicted_prices\n"
   ]
  },
  {
   "cell_type": "markdown",
   "metadata": {},
   "source": [
    "# Bước 2: Xây dựng hàm nhập dữ liệu đầu vào"
   ]
  },
  {
   "cell_type": "code",
   "execution_count": 22,
   "metadata": {},
   "outputs": [],
   "source": [
    "def input_and_predict_future(model, stock_data, normalization_params, sequence_length=30):\n",
    "    ticker = input(\"Nhập mã cổ phiếu: \").upper()\n",
    "    if ticker not in stock_data:\n",
    "        print(f\"Mã cổ phiếu {ticker} không tồn tại trong dữ liệu.\")\n",
    "        return\n",
    "    # Nhập ngày dự đoán và kiểm tra định dạng\n",
    "    predict_date_str = input(\"Nhập ngày dự đoán (YYYY-MM-DD): \")\n",
    "    try:\n",
    "        predict_date = pd.to_datetime(predict_date_str)\n",
    "    except Exception as e:\n",
    "        print(\"Định dạng ngày không hợp lệ, vui lòng nhập lại theo định dạng YYYY-MM-DD.\")\n",
    "        return\n",
    "    # Tìm ngày cuối cùng trong dữ liệu\n",
    "    last_date = stock_data[ticker]['Date'].iloc[-1]\n",
    "    if predict_date <= last_date:\n",
    "        print(f\"Ngày {predict_date.date()} đã có trong dữ liệu, vui lòng nhập ngày sau {last_date.date()}.\")\n",
    "        return\n",
    "     # Tính số ngày cần dự đoán\n",
    "    days_to_predict = (predict_date - last_date).days\n",
    "    print(f\"Số ngày cần dự đoán từ {last_date.date()} đến {predict_date.date()} là {days_to_predict} ngày.\")\n",
    "    # Lấy 30 ngày cuối để làm dữ liệu đầu vào\n",
    "    last_30_days = stock_data[ticker][['Open', 'High', 'Low', 'Close', 'Volume']].values[-sequence_length:]\n",
    "    # Dự đoán giá\n",
    "    future_prices = predict_future_prices(model, last_30_days, days_to_predict, normalization_params, ticker)\n",
    "    # In kết quả dự đoán\n",
    "    for i, prices in enumerate(future_prices, 1):\n",
    "        day_to_show = last_date + timedelta(days=i)\n",
    "        print(f\"Ngày {day_to_show.date()}:\")\n",
    "        print(f\"  + Giá trị Open dự đoán của cổ phiếu là: {prices['Open']}\")\n",
    "        print(f\"  + Giá trị High dự đoán của cổ phiếu là: {prices['High']}\")\n",
    "        print(f\"  + Giá trị Low dự đoán của cổ phiếu là: {prices['Low']}\")\n",
    "        print(f\"  + Giá trị Close dự đoán của cổ phiếu là: {prices['Close']}\")\n",
    "        print(f\"  + Giá trị Volume dự đoán của cổ phiếu là: {prices['Volume']}\")\n"
   ]
  },
  {
   "cell_type": "markdown",
   "metadata": {},
   "source": [
    "# Chạy hàm để nhập mã cổ phiếu và ngày trong tương lai cần dự đoán"
   ]
  },
  {
   "cell_type": "code",
   "execution_count": 26,
   "metadata": {},
   "outputs": [
    {
     "name": "stdout",
     "output_type": "stream",
     "text": [
      "Số ngày cần dự đoán từ 2022-07-12 đến 2022-07-13 là 1 ngày.\n",
      "\u001b[1m1/1\u001b[0m \u001b[32m━━━━━━━━━━━━━━━━━━━━\u001b[0m\u001b[37m\u001b[0m \u001b[1m0s\u001b[0m 44ms/step\n",
      "Ngày 2022-07-13:\n",
      "  + Giá trị Open dự đoán của cổ phiếu là: 141.84502443549923\n",
      "  + Giá trị High dự đoán của cổ phiếu là: 142.9248414242494\n",
      "  + Giá trị Low dự đoán của cổ phiếu là: 140.4942711193378\n",
      "  + Giá trị Close dự đoán của cổ phiếu là: 141.71224937982788\n",
      "  + Giá trị Volume dự đoán của cổ phiếu là: 1274497.6311296225\n"
     ]
    }
   ],
   "source": [
    "input_and_predict_future(model, stock_data, normalization_params)"
   ]
  }
 ],
 "metadata": {
  "kernelspec": {
   "display_name": "GPUtrain2",
   "language": "python",
   "name": "python3"
  },
  "language_info": {
   "codemirror_mode": {
    "name": "ipython",
    "version": 3
   },
   "file_extension": ".py",
   "mimetype": "text/x-python",
   "name": "python",
   "nbconvert_exporter": "python",
   "pygments_lexer": "ipython3",
   "version": "3.12.3"
  }
 },
 "nbformat": 4,
 "nbformat_minor": 2
}
